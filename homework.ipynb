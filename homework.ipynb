{
 "cells": [
  {
   "cell_type": "code",
   "execution_count": null,
   "id": "51104e92",
   "metadata": {},
   "outputs": [],
   "source": [
    "data_2023_01 = pd.read_parquet(\"/Users/nicolaerigheriu/mlops-zoomcamp/yellow_tripdata_2023-01.parquet\")"
   ]
  },
  {
   "cell_type": "code",
   "execution_count": null,
   "id": "f68f09c4",
   "metadata": {},
   "outputs": [],
   "source": [
    "len(data_2023_01.columns)\n",
    "data_2023_01['duration'] = (data_2023_01['tpep_dropoff_datetime'] - data_2023_01['tpep_pickup_datetime']).dt.total_seconds() / 60"
   ]
  },
  {
   "cell_type": "code",
   "execution_count": null,
   "id": "d441e0dc",
   "metadata": {},
   "outputs": [],
   "source": [
    "df_filtered = data_2023_01[(data_2023_01['duration'] >= 1) & (data_2023_01['duration'] <= 60)]\n",
    "\n",
    "# 5. Store filtered count\n",
    "filtered_count = len(df_filtered)\n",
    "\n",
    "# 6. Calculate fraction remaining\n",
    "fraction_remaining = filtered_count / original_count\n",
    "\n",
    "print(f\"Fraction of records remaining: {fraction_remaining:.4f}\")"
   ]
  },
  {
   "cell_type": "code",
   "execution_count": null,
   "id": "b7d55582",
   "metadata": {},
   "outputs": [],
   "source": [
    "df = data_2023_01"
   ]
  },
  {
   "cell_type": "code",
   "execution_count": null,
   "id": "ef7492ab",
   "metadata": {},
   "outputs": [],
   "source": [
    "df['PULocationID'] = df['PULocationID'].astype(str)\n",
    "df['DOLocationID'] = df['DOLocationID'].astype(str)\n",
    "dicts = df[['PULocationID', 'DOLocationID']].to_dict(orient='records')\n",
    "from sklearn.feature_extraction import DictVectorizer\n",
    "\n",
    "dv = DictVectorizer()\n",
    "X = dv.fit_transform(dicts)\n",
    "print(f\"Shape of feature matrix: {X.shape}\")\n",
    "num_columns = X.shape[1]\n",
    "print(f\"Number of columns (features): {num_columns}\")"
   ]
  },
  {
   "cell_type": "code",
   "execution_count": null,
   "id": "e5e7b4d3",
   "metadata": {},
   "outputs": [],
   "source": [
    "dicts = df[['PULocationID', 'DOLocationID']].to_dict(orient='records')\n",
    "\n",
    "# Create and fit vectorizer\n",
    "dv = DictVectorizer()\n",
    "X = dv.fit_transform(dicts)"
   ]
  },
  {
   "cell_type": "code",
   "execution_count": null,
   "id": "31cc7755",
   "metadata": {},
   "outputs": [],
   "source": [
    "y = df['duration'].values"
   ]
  },
  {
   "cell_type": "code",
   "execution_count": null,
   "id": "cdb07a31",
   "metadata": {},
   "outputs": [],
   "source": [
    "from sklearn.linear_model import LinearRegression\n",
    "from sklearn.metrics import mean_squared_error\n",
    "import numpy as np\n",
    "model = LinearRegression()\n",
    "model.fit(X, y)\n",
    "y_pred = model.predict(X)\n",
    "rmse = np.sqrt(mean_squared_error(y, y_pred))\n",
    "print(f\"RMSE on training data: {rmse:.2f}\")"
   ]
  }
 ],
 "metadata": {
  "language_info": {
   "name": "python"
  }
 },
 "nbformat": 4,
 "nbformat_minor": 5
}
